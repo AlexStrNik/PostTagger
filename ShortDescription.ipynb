{
 "cells": [
  {
   "cell_type": "code",
   "execution_count": 4,
   "metadata": {
    "collapsed": true
   },
   "outputs": [],
   "source": [
    "from nltk.tokenize import sent_tokenize\n",
    "from nltk.tokenize import RegexpTokenizer\n",
    "import networkx as nx\n",
    "from nltk.stem.snowball import RussianStemmer\n",
    "from itertools import combinations\n",
    "import pickle\n"
   ]
  },
  {
   "cell_type": "markdown",
   "metadata": {
    "collapsed": true
   },
   "source": [
    "импорт **необходимых бибилотек**\n"
   ]
  },
  {
   "cell_type": "code",
   "execution_count": 1,
   "metadata": {},
   "outputs": [],
   "source": [
    "def similarity(s1, s2): #\n",
    "    if not len(s1) or not len(s2):\n",
    "        return 0.0\n",
    "    return len(s1.intersection(s2)) / (1.0 * (len(s1) + len(s2)))\n"
   ]
  },
  {
   "cell_type": "markdown",
   "metadata": {},
   "source": [
    "вычисляет **сходство** предложений\n",
    "\n"
   ]
  },
  {
   "cell_type": "code",
   "execution_count": 2,
   "metadata": {},
   "outputs": [],
   "source": [
    "def textrank(text):\n",
    "    sentences = sent_tokenize(text)\n",
    "    tokenizer = RegexpTokenizer(r'\\w+')\n",
    "    lmtzr = RussianStemmer()\n",
    "    words = [set(lmtzr.stem(word) for word in tokenizer.tokenize(sentence.lower()))\n",
    "             for sentence in sentences]\n",
    "\n",
    "    pairs = combinations(range(len(sentences)), 2)\n",
    "    scores = [(i, j, similarity(words[i], words[j])) for i, j in pairs]\n",
    "    scores = filter(lambda x: x[2], scores)\n",
    "\n",
    "    g = nx.Graph()\n",
    "    g.add_weighted_edges_from(scores)\n",
    "    pr = nx.pagerank(g)\n",
    "\n",
    "    return sorted(((i, pr[i], s) for i, s in enumerate(sentences) if i in pr),\n",
    "                  key=lambda x: pr[x[0]], reverse=True)\n"
   ]
  },
  {
   "cell_type": "markdown",
   "metadata": {},
   "source": [
    "оценивает **важность каждого предложения** в наборе\n"
   ]
  },
  {
   "cell_type": "code",
   "execution_count": 3,
   "metadata": {},
   "outputs": [],
   "source": [
    "def extract(text, n=5):\n",
    "    tr = textrank(text)\n",
    "    top_n = sorted(tr[:n])\n",
    "    return ' '.join(x[2] for x in top_n)\n"
   ]
  },
  {
   "cell_type": "markdown",
   "metadata": {},
   "source": [
    "топ **n самых важных предложений** в наборе\n"
   ]
  },
  {
   "cell_type": "code",
   "execution_count": 9,
   "metadata": {},
   "outputs": [
    {
     "data": {
      "text/plain": [
       "'В Астраханской области неизвестные взорвали банкомат Сбербанка. Для этого преступники использовали баллон с газом. Однако, как сообщает информагентство «Астрахань 24», кассету с денежными средствами подозреваемые извлечь не смогли, так как ее повредило ударной волной. По данным регионального УМВД, в настоящее время на месте происшествия работают оперативные службы. Лица, совершившие преступления, пока не выявлены. Банк подсчитывает причиненный ущерб. Представители банка сообщили, что инцидент подтверждается. Пострадавших нет. В настоящее время по данному факту ведутся следственные действия. В интересах следствия подробности не раскрываются. фото с сайта «Астрахань 24»'"
      ]
     },
     "execution_count": 9,
     "metadata": {},
     "output_type": "execute_result"
    }
   ],
   "source": [
    "data = pickle.load(open(\"bankir_ru_news.pickle\",\"rb\"))\n",
    "text = data[13]['text']\n",
    "text"
   ]
  },
  {
   "cell_type": "code",
   "execution_count": 13,
   "metadata": {},
   "outputs": [
    {
     "data": {
      "text/plain": [
       "'По данным регионального УМВД, в настоящее время на месте происшествия работают оперативные службы. В настоящее время по данному факту ведутся следственные действия. В интересах следствия подробности не раскрываются.'"
      ]
     },
     "execution_count": 13,
     "metadata": {},
     "output_type": "execute_result"
    }
   ],
   "source": [
    "desc = extract(text,3)\n",
    "desc"
   ]
  },
  {
   "cell_type": "code",
   "execution_count": null,
   "metadata": {},
   "outputs": [],
   "source": []
  }
 ],
 "metadata": {
  "kernelspec": {
   "display_name": "Python 2",
   "language": "python",
   "name": "python2"
  },
  "language_info": {
   "codemirror_mode": {
    "name": "ipython",
    "version": 2
   },
   "file_extension": ".py",
   "mimetype": "text/x-python",
   "name": "python",
   "nbconvert_exporter": "python",
   "pygments_lexer": "ipython2",
   "version": "2.7.6"
  }
 },
 "nbformat": 4,
 "nbformat_minor": 0
}
