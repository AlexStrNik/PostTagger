{
 "cells": [
  {
   "cell_type": "code",
   "execution_count": 61,
   "metadata": {
    "collapsed": false
   },
   "outputs": [],
   "source": [
    "from __future__ import print_function\n",
    "from time import time\n",
    "import pandas as pd\n",
    "\n",
    "from sklearn.feature_extraction.text import TfidfVectorizer, CountVectorizer\n",
    "from sklearn.decomposition import NMF, LatentDirichletAllocation, TruncatedSVD\n",
    "\n",
    "from pymystem3 import Mystem"
   ]
  },
  {
   "cell_type": "code",
   "execution_count": 157,
   "metadata": {
    "collapsed": true
   },
   "outputs": [],
   "source": [
    "from nltk.corpus import stopwords"
   ]
  },
  {
   "cell_type": "code",
   "execution_count": 226,
   "metadata": {
    "collapsed": true
   },
   "outputs": [],
   "source": [
    "n_features = 5000\n",
    "n_topics = 42\n",
    "n_top_words = 3"
   ]
  },
  {
   "cell_type": "code",
   "execution_count": 227,
   "metadata": {
    "collapsed": true
   },
   "outputs": [],
   "source": [
    "def print_top_words(model, feature_names, n_top_words):\n",
    "    for topic_idx, topic in enumerate(model.components_):\n",
    "        print(\"Topic #%d:\" % topic_idx)\n",
    "        print(\" \".join([feature_names[i]\n",
    "                        for i in topic.argsort()[:-n_top_words - 1:-1]]))\n",
    "    print()"
   ]
  },
  {
   "cell_type": "code",
   "execution_count": null,
   "metadata": {
    "collapsed": true
   },
   "outputs": [],
   "source": []
  },
  {
   "cell_type": "code",
   "execution_count": 228,
   "metadata": {
    "collapsed": true
   },
   "outputs": [],
   "source": [
    "stemmer = Mystem(entire_input=False)"
   ]
  },
  {
   "cell_type": "code",
   "execution_count": 229,
   "metadata": {
    "collapsed": true
   },
   "outputs": [
    {
     "data": {
      "text/plain": [
       "0    Другой ключевой момент, на который работодател...\n",
       "1    Министерство финансов России оценило «серый» ф...\n",
       "2    Тема качества образования заслуживает отдельно...\n",
       "3    09:00 — Пятигорск, отель «Хантама» Бросаем вещ...\n",
       "4    В американских СМИ в последние месяцы не раз п...\n",
       "Name: text, dtype: object"
      ]
     },
     "execution_count": 229,
     "metadata": {},
     "output_type": "execute_result"
    }
   ],
   "source": [
    "dataset =  pd.read_csv('./NEWS/untitled/data.csv')\n",
    "dataset.text.head()"
   ]
  },
  {
   "cell_type": "code",
   "execution_count": 230,
   "metadata": {
    "collapsed": true
   },
   "outputs": [],
   "source": [
    "dataset.tokens = dataset.text.apply(stemmer.lemmatize)\n",
    "dataset.clean_strings = dataset.tokens.apply(lambda x: ' '.join(t for t in x))"
   ]
  },
  {
   "cell_type": "code",
   "execution_count": 231,
   "metadata": {
    "collapsed": false
   },
   "outputs": [],
   "source": [
    "tfidf_vectorizer = TfidfVectorizer(max_df=0.7, max_features=n_features, stop_words=stopwords.words('russian'), \n",
    "                                   ngram_range=[1,2])\n",
    "tfidf_matrix = tfidf_vectorizer.fit_transform(dataset.clean_strings.values)\n",
    "\n",
    "tf_vectorizer = CountVectorizer(max_df=0.7, max_features=n_features, stop_words=stopwords.words('russian'), \n",
    "                                ngram_range=[1,2])\n",
    "tf_matrix = tf_vectorizer.fit_transform(dataset.clean_strings.values)"
   ]
  },
  {
   "cell_type": "code",
   "execution_count": 232,
   "metadata": {
    "collapsed": false
   },
   "outputs": [],
   "source": [
    "nmf = NMF(n_components=n_topics, random_state=1, alpha=.1, l1_ratio=.5).fit(tfidf_matrix)"
   ]
  },
  {
   "cell_type": "code",
   "execution_count": 233,
   "metadata": {
    "collapsed": false
   },
   "outputs": [
    {
     "name": "stdout",
     "output_type": "stream",
     "text": [
      "\n",
      "Topics in NMF model:\n",
      "Topic #0:\n",
      "яндекс коммерческий комиссионный\n",
      "Topic #1:\n",
      "президент арб арб президент\n",
      "Topic #2:\n",
      "доллар рубль нефть\n",
      "Topic #3:\n",
      "банк финансовый рынок\n",
      "Topic #4:\n",
      "югра хотина хотин\n",
      "Topic #5:\n",
      "лимит малый малый средний\n",
      "Topic #6:\n",
      "карта чип терминал\n",
      "Topic #7:\n",
      "яндекс коммерческий комиссионный\n",
      "Topic #8:\n",
      "налог налоговый труд\n",
      "Topic #9:\n",
      "спфс swift сообщение\n",
      "Topic #10:\n",
      "яндекс коммерческий комиссионный\n",
      "Topic #11:\n",
      "заемщик ипотечный программа\n",
      "Topic #12:\n",
      "возмещение выплата вкладчик\n",
      "Topic #13:\n",
      "яндекс коммерческий комиссионный\n",
      "Topic #14:\n",
      "актив судебный процедура\n",
      "Topic #15:\n",
      "акция асв привилегированный\n",
      "Topic #16:\n",
      "руб млрд руб млрд\n",
      "Topic #17:\n",
      "яндекс коммерческий комиссионный\n",
      "Topic #18:\n",
      "трансформация платеж трансформация платеж\n",
      "Topic #19:\n",
      "яндекс коммерческий комиссионный\n",
      "Topic #20:\n",
      "госуслуга портал портал госуслуга\n",
      "Topic #21:\n",
      "блокчейн создание технология\n",
      "Topic #22:\n",
      "агаларов трамп сын\n",
      "Topic #23:\n",
      "яндекс коммерческий комиссионный\n",
      "Topic #24:\n",
      "мегафон евросеть вымпелком\n",
      "Topic #25:\n",
      "залог залоговый кредитование\n",
      "Topic #26:\n",
      "политика активный надзорный надзорный политика\n",
      "Topic #27:\n",
      "style softlab style softlab\n",
      "Topic #28:\n",
      "visa наличный безналичный\n",
      "Topic #29:\n",
      "крым турбина установка\n",
      "Topic #30:\n",
      "мусин ходатайство арест\n",
      "Topic #31:\n",
      "диагностика форма диасофт\n",
      "Topic #32:\n",
      "карта мир армения мир\n",
      "Topic #33:\n",
      "инфляция рост ставка\n",
      "Topic #34:\n",
      "тулин банк персональный\n",
      "Topic #35:\n",
      "миллиард миллиард рубль миллиард доллар\n",
      "Topic #36:\n",
      "криптовалюта расплачиваться оплата\n",
      "Topic #37:\n",
      "информационный база гражданин база\n",
      "Topic #38:\n",
      "франция google налог\n",
      "Topic #39:\n",
      "минфин бюджетный бюджет\n",
      "Topic #40:\n",
      "автомобиль субсидия пластик\n",
      "Topic #41:\n",
      "должник банкротство кредитор\n",
      "\n"
     ]
    }
   ],
   "source": [
    "print(\"\\nTopics in NMF model:\")\n",
    "tfidf_feature_names = tfidf_vectorizer.get_feature_names()\n",
    "print_top_words(nmf, tfidf_feature_names, n_top_words)"
   ]
  },
  {
   "cell_type": "code",
   "execution_count": 234,
   "metadata": {
    "collapsed": false
   },
   "outputs": [],
   "source": [
    "lda = LatentDirichletAllocation(n_topics=n_topics, max_iter=15, learning_method='online',\n",
    "                                learning_offset=50., random_state=42).fit(tf_matrix)\n"
   ]
  },
  {
   "cell_type": "code",
   "execution_count": 235,
   "metadata": {
    "collapsed": false
   },
   "outputs": [
    {
     "name": "stdout",
     "output_type": "stream",
     "text": [
      "\n",
      "Topics in LDA model:\n",
      "Topic #0:\n",
      "год финансовый swift\n",
      "Topic #1:\n",
      "интернет молодежь яндекс\n",
      "Topic #2:\n",
      "россия время наблюдать защита право\n",
      "Topic #3:\n",
      "банк сказать год\n",
      "Topic #4:\n",
      "снижаться московский биржа цср\n",
      "Topic #5:\n",
      "трамп агаларов сын\n",
      "Topic #6:\n",
      "рубль банк касперский\n",
      "Topic #7:\n",
      "lg lg cns cns\n",
      "Topic #8:\n",
      "крым турбина установка\n",
      "Topic #9:\n",
      "коллекция роман кольцо\n",
      "Topic #10:\n",
      "сегодняшний день который усиление\n",
      "Topic #11:\n",
      "банк инсайдерский информация пао\n",
      "Topic #12:\n",
      "pci dss pci dss\n",
      "Topic #13:\n",
      "акция асв привилегированный\n",
      "Topic #14:\n",
      "который год это\n",
      "Topic #15:\n",
      "год млн руб\n",
      "Topic #16:\n",
      "мвд мвд россия копейка\n",
      "Topic #17:\n",
      "банк год кредитный\n",
      "Topic #18:\n",
      "компания работать ваш\n",
      "Topic #19:\n",
      "банк который год\n",
      "Topic #20:\n",
      "год кредит акционерный общество\n",
      "Topic #21:\n",
      "год финансовый акция\n",
      "Topic #22:\n",
      "россия глава банк\n",
      "Topic #23:\n",
      "основной налоговый вычет\n",
      "Topic #24:\n",
      "диего tod сын\n",
      "Topic #25:\n",
      "пенсионный управляющий компания накопление\n",
      "Topic #26:\n",
      "спортсмен допинг уголовный\n",
      "Topic #27:\n",
      "спфс swift сообщение\n",
      "Topic #28:\n",
      "style style softlab softlab\n",
      "Topic #29:\n",
      "финансовый домен банк\n",
      "Topic #30:\n",
      "расчетный счет расчетный открытие расчетный\n",
      "Topic #31:\n",
      "налоговый налог труд\n",
      "Topic #32:\n",
      "лимит малый малый средний\n",
      "Topic #33:\n",
      "возмещение выплата вкладчик\n",
      "Topic #34:\n",
      "банк система который\n",
      "Topic #35:\n",
      "это который год\n",
      "Topic #36:\n",
      "карта домен ru\n",
      "Topic #37:\n",
      "компания хотина банк\n",
      "Topic #38:\n",
      "хотина хотин югра\n",
      "Topic #39:\n",
      "год фракция прибыль\n",
      "Topic #40:\n",
      "руб копа копа руб\n",
      "Topic #41:\n",
      "hr миллиардер искусство\n",
      "\n"
     ]
    }
   ],
   "source": [
    "print(\"\\nTopics in LDA model:\")\n",
    "tf_feature_names = tf_vectorizer.get_feature_names()\n",
    "print_top_words(lda, tf_feature_names, n_top_words)"
   ]
  },
  {
   "cell_type": "code",
   "execution_count": 240,
   "metadata": {
    "collapsed": false
   },
   "outputs": [],
   "source": [
    "from gensim.models import Word2Vec\n",
    "from gensim.models import word2vec"
   ]
  },
  {
   "cell_type": "code",
   "execution_count": 256,
   "metadata": {
    "collapsed": false
   },
   "outputs": [
    {
     "data": {
      "text/plain": [
       "0    другой ключевой момент на который работодатель...\n",
       "1    министерство финансы россия оценивать серый фо...\n",
       "2    тема качество образование заслуживать отдельны...\n",
       "3    пятигорск отель хантам бросать вещь у подножие...\n",
       "4    в американский сми в последний месяц не раз по...\n",
       "Name: text, dtype: object"
      ]
     },
     "execution_count": 256,
     "metadata": {},
     "output_type": "execute_result"
    }
   ],
   "source": [
    "dataset.clean_strings.head()"
   ]
  },
  {
   "cell_type": "code",
   "execution_count": 318,
   "metadata": {
    "collapsed": false
   },
   "outputs": [],
   "source": [
    "w2v = Word2Vec(dataset.tokens.values, size=100, window=5, min_count=1)"
   ]
  },
  {
   "cell_type": "code",
   "execution_count": 319,
   "metadata": {
    "collapsed": false
   },
   "outputs": [
    {
     "data": {
      "text/plain": [
       "[('или', 0.9999673366546631),\n",
       " ('получать', 0.9999666213989258),\n",
       " ('клиент', 0.999965488910675),\n",
       " ('продукт', 0.9999638199806213),\n",
       " ('страна', 0.999962568283081),\n",
       " ('другой', 0.999962329864502),\n",
       " ('проект', 0.9999619722366333),\n",
       " ('их', 0.9999613761901855),\n",
       " ('под', 0.9999609589576721),\n",
       " ('большой', 0.9999599456787109)]"
      ]
     },
     "execution_count": 319,
     "metadata": {},
     "output_type": "execute_result"
    }
   ],
   "source": [
    "w2v.most_similar(dataset.tokens.values[2])"
   ]
  },
  {
   "cell_type": "code",
   "execution_count": 261,
   "metadata": {
    "collapsed": false
   },
   "outputs": [
    {
     "data": {
      "text/plain": [
       "[('технология', 0.9998924136161804),\n",
       " ('механизм', 0.9998824596405029),\n",
       " ('продукт', 0.9998809695243835),\n",
       " ('позволять', 0.9998793601989746),\n",
       " ('клиент', 0.9998775720596313),\n",
       " ('для', 0.9998736381530762),\n",
       " ('использование', 0.9998728632926941),\n",
       " ('центр', 0.9998728036880493),\n",
       " ('развитие', 0.9998705983161926),\n",
       " ('проект', 0.99986732006073)]"
      ]
     },
     "execution_count": 261,
     "metadata": {},
     "output_type": "execute_result"
    }
   ],
   "source": [
    "w2v.most_similar(positive=['блокчейн'])"
   ]
  },
  {
   "cell_type": "code",
   "execution_count": 345,
   "metadata": {
    "collapsed": true
   },
   "outputs": [],
   "source": [
    "dataset['clean_tokens'] = dataset.tokens.apply(lambda x: [t for t in x if t not in stopwords.words('russian')])"
   ]
  },
  {
   "cell_type": "code",
   "execution_count": 344,
   "metadata": {
    "collapsed": false
   },
   "outputs": [],
   "source": [
    "w2v_clean = Word2Vec(dataset.clean_tokens.values, size=100, window=5, min_count=1, sg=1, iter=100)"
   ]
  },
  {
   "cell_type": "code",
   "execution_count": 346,
   "metadata": {
    "collapsed": false
   },
   "outputs": [
    {
     "data": {
      "text/plain": [
       "[('контрастировать', 0.6686022877693176),\n",
       " ('коллективно', 0.6667443513870239),\n",
       " ('применимость', 0.6626334190368652),\n",
       " ('специализироваться', 0.6576817035675049),\n",
       " ('наблюдательный', 0.6464658975601196),\n",
       " ('токен', 0.6444015502929688),\n",
       " ('работоспособность', 0.6435334086418152),\n",
       " ('оптимистичный', 0.640955924987793),\n",
       " ('записывать', 0.6324071884155273),\n",
       " ('функционирование', 0.6295121908187866)]"
      ]
     },
     "execution_count": 346,
     "metadata": {},
     "output_type": "execute_result"
    }
   ],
   "source": [
    "w2v_clean.most_similar(positive=['блокчейн'])"
   ]
  },
  {
   "cell_type": "code",
   "execution_count": 365,
   "metadata": {
    "collapsed": false,
    "scrolled": true
   },
   "outputs": [
    {
     "data": {
      "text/plain": [
       "['однако',\n",
       " 'несколько',\n",
       " 'месяц',\n",
       " 'назад',\n",
       " 'сразу',\n",
       " 'банк',\n",
       " 'выводить',\n",
       " 'рынок',\n",
       " 'новый',\n",
       " 'продукт',\n",
       " 'карта',\n",
       " 'рассрочка',\n",
       " 'предполагать',\n",
       " 'беспроцентный',\n",
       " 'использование',\n",
       " 'кредитный',\n",
       " 'средство',\n",
       " 'банка',\n",
       " 'покупка',\n",
       " 'магазин',\n",
       " 'партнер',\n",
       " 'нейминг',\n",
       " 'оба',\n",
       " 'карта',\n",
       " 'закладывать',\n",
       " 'глобальный',\n",
       " 'месседж',\n",
       " 'клиент',\n",
       " 'это',\n",
       " 'бесплатный',\n",
       " 'деньги',\n",
       " 'естественно',\n",
       " 'возникать',\n",
       " 'вопрос',\n",
       " 'это',\n",
       " 'нужный',\n",
       " 'банк',\n",
       " 'прибыль',\n",
       " 'который',\n",
       " 'формироваться',\n",
       " 'данный',\n",
       " 'случай',\n",
       " 'исключительно',\n",
       " 'счет',\n",
       " 'комиссия',\n",
       " 'партнерский',\n",
       " 'организация',\n",
       " 'платежный',\n",
       " 'система',\n",
       " 'безусловно',\n",
       " 'размер',\n",
       " 'прибыль',\n",
       " 'несопоставимый',\n",
       " 'процентный',\n",
       " 'доход',\n",
       " 'классический',\n",
       " 'кредитный',\n",
       " 'карта',\n",
       " 'читать',\n",
       " 'также',\n",
       " 'халва',\n",
       " 'совесть',\n",
       " 'достоинство',\n",
       " 'недостаток',\n",
       " 'карта',\n",
       " 'беспроцентный',\n",
       " 'рассрочка',\n",
       " 'продажа',\n",
       " 'высокорискованный',\n",
       " 'продукт',\n",
       " 'минимальный',\n",
       " 'комиссионный',\n",
       " 'маржа',\n",
       " 'сторона',\n",
       " 'банк',\n",
       " 'акт',\n",
       " 'благотворительность',\n",
       " 'продуманный',\n",
       " 'ход',\n",
       " 'бесплатно',\n",
       " 'банковский',\n",
       " 'деньги',\n",
       " 'карта',\n",
       " 'клиент',\n",
       " 'мочь',\n",
       " 'пользоваться',\n",
       " 'период',\n",
       " 'рассрочка',\n",
       " 'год',\n",
       " 'дальнейший',\n",
       " 'включаться',\n",
       " 'отлаживать',\n",
       " 'механизм',\n",
       " 'взимание',\n",
       " 'штраф',\n",
       " 'просрочивать',\n",
       " 'платеж',\n",
       " 'процентный',\n",
       " 'ставка',\n",
       " 'сопоставимый',\n",
       " 'самый',\n",
       " 'дорогой',\n",
       " 'кредитный',\n",
       " 'карточный',\n",
       " 'тариф',\n",
       " 'около',\n",
       " 'годовой',\n",
       " 'помимо',\n",
       " 'штраф',\n",
       " 'просрочка',\n",
       " 'тарифный',\n",
       " 'план',\n",
       " 'бесплатный',\n",
       " 'карта',\n",
       " 'находить',\n",
       " 'штраф',\n",
       " 'технический',\n",
       " 'овердрафт',\n",
       " 'возникать',\n",
       " 'случай',\n",
       " 'перерасход',\n",
       " 'выделять',\n",
       " 'лимит',\n",
       " 'средство',\n",
       " 'первый',\n",
       " 'этап',\n",
       " 'раскрутка',\n",
       " 'новый',\n",
       " 'продукт',\n",
       " 'скоринг',\n",
       " 'банк',\n",
       " 'эмитент',\n",
       " 'карта',\n",
       " 'рассрочка',\n",
       " 'большой',\n",
       " 'степень',\n",
       " 'вероятность',\n",
       " 'настраивать',\n",
       " 'либерально',\n",
       " 'отношение',\n",
       " 'будущий',\n",
       " 'держатель',\n",
       " 'учет',\n",
       " 'ограниченный',\n",
       " 'возможность',\n",
       " 'использование',\n",
       " 'карта',\n",
       " 'покупка',\n",
       " 'партнерский',\n",
       " 'торговый',\n",
       " 'точка',\n",
       " 'привлечение',\n",
       " 'максимальный',\n",
       " 'количество',\n",
       " 'клиент',\n",
       " 'неизбежный',\n",
       " 'задача',\n",
       " 'набирать',\n",
       " 'первичный',\n",
       " 'пул',\n",
       " 'клиент',\n",
       " 'банка',\n",
       " 'скоро',\n",
       " 'начинать',\n",
       " 'увеличивать',\n",
       " 'процент',\n",
       " 'отказ',\n",
       " 'заявка',\n",
       " 'сфокусировать',\n",
       " 'внимание',\n",
       " 'привлекать',\n",
       " 'держатель',\n",
       " 'расширение',\n",
       " 'лимит',\n",
       " 'действующий',\n",
       " 'карта',\n",
       " 'настоящий',\n",
       " 'момент',\n",
       " 'рынок',\n",
       " 'конкурировать',\n",
       " 'продукт',\n",
       " 'некоторый',\n",
       " 'игрок',\n",
       " 'заявлять',\n",
       " 'план',\n",
       " 'вывод',\n",
       " 'рынок',\n",
       " 'аналогичный',\n",
       " 'предложение',\n",
       " 'количество',\n",
       " 'игрок',\n",
       " 'вероятный',\n",
       " 'увеличиваться',\n",
       " 'образ',\n",
       " 'несколько',\n",
       " 'год',\n",
       " 'коллектор',\n",
       " 'работа',\n",
       " 'переходить',\n",
       " 'принципиально',\n",
       " 'новый',\n",
       " 'качество',\n",
       " 'кредитный',\n",
       " 'масса',\n",
       " 'долг',\n",
       " 'просрочивать',\n",
       " 'рассрочка',\n",
       " 'качество',\n",
       " 'заемщик',\n",
       " 'новый',\n",
       " 'тип',\n",
       " 'спрогнозировать',\n",
       " 'основа',\n",
       " 'условие',\n",
       " 'предоставление',\n",
       " 'карта',\n",
       " 'паспорт',\n",
       " 'снилс',\n",
       " 'минимальный',\n",
       " 'стаж',\n",
       " 'последний',\n",
       " 'место',\n",
       " 'работа',\n",
       " 'широкий',\n",
       " 'возрастной',\n",
       " 'диапазон',\n",
       " 'студент',\n",
       " 'пенсионер',\n",
       " 'рассрочник',\n",
       " 'вероятный',\n",
       " 'платить',\n",
       " 'порядок',\n",
       " 'плохой',\n",
       " 'держатель',\n",
       " 'кредитный',\n",
       " 'карта',\n",
       " 'выдавать',\n",
       " 'последний',\n",
       " 'строгий',\n",
       " 'год',\n",
       " 'платежный',\n",
       " 'дисциплина',\n",
       " 'данный',\n",
       " 'случай',\n",
       " 'сопоставимый',\n",
       " 'POS',\n",
       " 'кредитование',\n",
       " 'формат',\n",
       " 'сделка',\n",
       " 'максимально',\n",
       " 'приближать',\n",
       " 'карта',\n",
       " 'рассрочка',\n",
       " 'быстрый',\n",
       " 'одобрение',\n",
       " 'кредит',\n",
       " 'покупка',\n",
       " 'партнерский',\n",
       " 'торговый',\n",
       " 'точка',\n",
       " 'ассортимент',\n",
       " 'товар',\n",
       " 'услуга',\n",
       " 'добавляться',\n",
       " 'непривычный',\n",
       " 'классический',\n",
       " 'POS',\n",
       " 'кредит',\n",
       " 'категория',\n",
       " 'продуктовый',\n",
       " 'магазин',\n",
       " 'кофейня',\n",
       " 'онлайн',\n",
       " 'касса',\n",
       " 'принципиальный',\n",
       " 'отличие',\n",
       " 'карта',\n",
       " 'рассрочка',\n",
       " 'кредитка',\n",
       " 'заключаться',\n",
       " 'маржинальность',\n",
       " 'продукт',\n",
       " 'банка',\n",
       " 'зависеть',\n",
       " 'эффективность',\n",
       " 'взыскание',\n",
       " 'этап',\n",
       " 'сбор',\n",
       " 'долг',\n",
       " 'нужно',\n",
       " 'готовиться',\n",
       " 'известно',\n",
       " 'новый',\n",
       " 'закон',\n",
       " 'защита',\n",
       " 'право',\n",
       " 'физлиц',\n",
       " 'взыскание',\n",
       " 'фз',\n",
       " 'разрешать',\n",
       " 'ограниченный',\n",
       " 'количество',\n",
       " 'контакт',\n",
       " 'должник',\n",
       " 'лимит',\n",
       " 'письмо',\n",
       " 'звонок',\n",
       " 'встреча',\n",
       " 'возможно',\n",
       " 'увеличивать',\n",
       " 'заключать',\n",
       " 'заемщик',\n",
       " 'пакет',\n",
       " 'дополнительный',\n",
       " 'соглашение',\n",
       " 'прописывать',\n",
       " 'разрешать',\n",
       " 'количество',\n",
       " 'коммуникация',\n",
       " 'случай',\n",
       " 'несвоевременный',\n",
       " 'погашение',\n",
       " 'кредит',\n",
       " 'пока',\n",
       " 'риторика',\n",
       " 'рекламный',\n",
       " 'кампания',\n",
       " 'карта',\n",
       " 'просрочка',\n",
       " 'призванный',\n",
       " 'убеждать',\n",
       " 'будущий',\n",
       " 'клиент',\n",
       " 'предоставлять',\n",
       " 'деньги',\n",
       " 'бесплатный',\n",
       " 'доступный',\n",
       " 'прайс-лист',\n",
       " 'ценник',\n",
       " 'практически',\n",
       " 'обслуживание',\n",
       " 'карта',\n",
       " 'стандартный',\n",
       " 'перевыпуск',\n",
       " 'услуга',\n",
       " 'смс',\n",
       " 'информирование',\n",
       " 'предоставляться',\n",
       " 'free',\n",
       " 'of',\n",
       " 'charge']"
      ]
     },
     "execution_count": 365,
     "metadata": {},
     "output_type": "execute_result"
    }
   ],
   "source": [
    "dataset.clean_tokens.values[11]"
   ]
  },
  {
   "cell_type": "code",
   "execution_count": 366,
   "metadata": {
    "collapsed": false
   },
   "outputs": [
    {
     "data": {
      "text/plain": [
       "[('приветственный', 0.7696899771690369),\n",
       " ('порадовать', 0.7664345502853394),\n",
       " ('информировать', 0.7550635933876038),\n",
       " ('недалекий', 0.7321943640708923),\n",
       " ('лайн', 0.7181087136268616),\n",
       " ('PLUS', 0.7164790630340576),\n",
       " ('пополнение', 0.7055864334106445),\n",
       " ('автоматический', 0.7050371170043945),\n",
       " ('неслучайность', 0.7021297216415405),\n",
       " ('начисляться', 0.6988977193832397)]"
      ]
     },
     "execution_count": 366,
     "metadata": {},
     "output_type": "execute_result"
    }
   ],
   "source": [
    "w2v_clean.most_similar(dataset.clean_tokens.values[11])"
   ]
  },
  {
   "cell_type": "code",
   "execution_count": 350,
   "metadata": {
    "collapsed": false
   },
   "outputs": [
    {
     "data": {
      "text/plain": [
       "[('благодаря', 0.07897493243217468),\n",
       " ('покупатель', 0.07555755972862244),\n",
       " ('аукцион', 0.06355968862771988),\n",
       " ('х', 0.06228058412671089),\n",
       " ('сносить', 0.059618547558784485),\n",
       " ('свыше', 0.05917669087648392),\n",
       " ('постройка', 0.05841321125626564),\n",
       " ('изымать', 0.05770673602819443),\n",
       " ('кстати', 0.05363631248474121),\n",
       " ('связывать', 0.053028032183647156)]"
      ]
     },
     "execution_count": 350,
     "metadata": {},
     "output_type": "execute_result"
    }
   ],
   "source": [
    "w2v_clean.most_similar(negative=['блокчейн'])"
   ]
  },
  {
   "cell_type": "code",
   "execution_count": 266,
   "metadata": {
    "collapsed": false
   },
   "outputs": [
    {
     "data": {
      "text/plain": [
       "[('сумма', 0.9999147653579712),\n",
       " ('от', 0.9999144673347473),\n",
       " ('покупка', 0.9999120831489563),\n",
       " ('около', 0.9999115467071533),\n",
       " ('на', 0.9999050498008728),\n",
       " ('объем', 0.9999037981033325),\n",
       " ('более', 0.9999030828475952),\n",
       " ('сша', 0.9999020099639893),\n",
       " ('уровень', 0.9999005794525146),\n",
       " ('программа', 0.9998966455459595)]"
      ]
     },
     "execution_count": 266,
     "metadata": {},
     "output_type": "execute_result"
    }
   ],
   "source": [
    "w2v.most_similar('доход')"
   ]
  },
  {
   "cell_type": "code",
   "execution_count": 269,
   "metadata": {
    "collapsed": false
   },
   "outputs": [
    {
     "data": {
      "text/plain": [
       "[('млрд', 0.9998084306716919),\n",
       " ('составлять', 0.9997642636299133),\n",
       " ('до', 0.9997141361236572),\n",
       " ('млн', 0.9997061491012573),\n",
       " ('год', 0.99969083070755),\n",
       " ('доллар', 0.9996715784072876),\n",
       " ('руб', 0.9996607899665833),\n",
       " ('сумма', 0.9995851516723633),\n",
       " ('на', 0.9995599389076233),\n",
       " ('около', 0.9995480179786682)]"
      ]
     },
     "execution_count": 269,
     "metadata": {},
     "output_type": "execute_result"
    }
   ],
   "source": [
    "w2v.most_similar(positive=['миллиард', 'рубль'])"
   ]
  },
  {
   "cell_type": "code",
   "execution_count": 270,
   "metadata": {
    "collapsed": false
   },
   "outputs": [
    {
     "data": {
      "text/plain": [
       "[('составлять', 0.9998921155929565),\n",
       " ('млрд', 0.9998754858970642),\n",
       " ('доллар', 0.99986732006073),\n",
       " ('год', 0.9998632073402405),\n",
       " ('млн', 0.9998360872268677),\n",
       " ('сумма', 0.9998263716697693),\n",
       " ('доход', 0.9998089075088501),\n",
       " ('около', 0.9998023509979248),\n",
       " ('курс', 0.9997999668121338),\n",
       " ('объем', 0.9997997283935547)]"
      ]
     },
     "execution_count": 270,
     "metadata": {},
     "output_type": "execute_result"
    }
   ],
   "source": [
    "w2v_clean.most_similar(positive=['миллиард', 'рубль'])"
   ]
  },
  {
   "cell_type": "code",
   "execution_count": 371,
   "metadata": {
    "collapsed": false
   },
   "outputs": [
    {
     "data": {
      "text/plain": [
       "[('отличать', 0.7938493490219116),\n",
       " ('уметь', 0.7344980239868164),\n",
       " ('сегментирование', 0.6891836524009705),\n",
       " ('продвинутый', 0.6886470317840576),\n",
       " ('продвигаться', 0.6854407787322998),\n",
       " ('журавль', 0.6804898977279663),\n",
       " ('робот', 0.6724709868431091),\n",
       " ('инжиниринг', 0.6625609397888184),\n",
       " ('персонализировать', 0.6602671146392822),\n",
       " ('зрительский', 0.6546989679336548)]"
      ]
     },
     "execution_count": 371,
     "metadata": {},
     "output_type": "execute_result"
    }
   ],
   "source": [
    "w2v_clean.most_similar('AI')"
   ]
  },
  {
   "cell_type": "code",
   "execution_count": 375,
   "metadata": {
    "collapsed": false
   },
   "outputs": [],
   "source": [
    "wiki = Word2Vec.load_word2vec_format('./NEWS/ruwikiruscorpora_0_300_20.bin', binary=True)"
   ]
  },
  {
   "cell_type": "code",
   "execution_count": 381,
   "metadata": {
    "collapsed": true
   },
   "outputs": [],
   "source": [
    "from copy import deepcopy"
   ]
  },
  {
   "cell_type": "code",
   "execution_count": 382,
   "metadata": {
    "collapsed": false
   },
   "outputs": [],
   "source": [
    "new_vocab = {}\n",
    "for k in wiki.vocab.keys():\n",
    "    new_vocab[k.split('_')[0]] = deepcopy(wiki.vocab[k])"
   ]
  },
  {
   "cell_type": "code",
   "execution_count": 383,
   "metadata": {
    "collapsed": true
   },
   "outputs": [],
   "source": [
    "wiki.vocab = new_vocab"
   ]
  },
  {
   "cell_type": "code",
   "execution_count": 393,
   "metadata": {
    "collapsed": false
   },
   "outputs": [],
   "source": [
    "wiki.index2word = [i.split('_')[0] for i in wiki.index2word]"
   ]
  },
  {
   "cell_type": "code",
   "execution_count": 395,
   "metadata": {
    "collapsed": false
   },
   "outputs": [
    {
     "data": {
      "text/plain": [
       "[('ethereum', 0.6526474356651306),\n",
       " ('bitcoin', 0.6368981003761292),\n",
       " ('криптовалюта', 0.5974207520484924),\n",
       " ('litecoin', 0.5675651431083679),\n",
       " ('биткойн', 0.5644757747650146),\n",
       " ('ssl', 0.5278358459472656),\n",
       " ('транзакционный', 0.5243838429450989),\n",
       " ('direct::connect', 0.5220121741294861),\n",
       " ('oauth', 0.5208117365837097),\n",
       " ('биткоин', 0.5185723304748535)]"
      ]
     },
     "execution_count": 395,
     "metadata": {},
     "output_type": "execute_result"
    }
   ],
   "source": [
    "wiki.most_similar('блокчейн')"
   ]
  },
  {
   "cell_type": "code",
   "execution_count": null,
   "metadata": {
    "collapsed": true
   },
   "outputs": [],
   "source": [
    "wiki.most_similar()"
   ]
  }
 ],
 "metadata": {
  "anaconda-cloud": {},
  "kernelspec": {
   "display_name": "Python [Root]",
   "language": "python",
   "name": "Python [Root]"
  },
  "language_info": {
   "codemirror_mode": {
    "name": "ipython",
    "version": 3
   },
   "file_extension": ".py",
   "mimetype": "text/x-python",
   "name": "python",
   "nbconvert_exporter": "python",
   "pygments_lexer": "ipython3",
   "version": "3.5.2"
  }
 },
 "nbformat": 4,
 "nbformat_minor": 0
}
