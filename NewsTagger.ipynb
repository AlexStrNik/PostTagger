{
 "cells": [
  {
   "cell_type": "code",
   "execution_count": 20,
   "metadata": {
    "collapsed": true
   },
   "outputs": [
    {
     "name": "stderr",
     "output_type": "stream",
     "text": [
      "C:\\ProgramData\\Anaconda3\\lib\\site-packages\\gensim\\utils.py:865: UserWarning: detected Windows; aliasing chunkize to chunkize_serial\n  warnings.warn(\"detected Windows; aliasing chunkize to chunkize_serial\")\n"
     ]
    }
   ],
   "source": [
    "from nltk.corpus import stopwords \n",
    "from pymystem3 import Mystem\n",
    "import string\n",
    "import pickle\n",
    "import gensim\n",
    "from gensim import corpora"
   ]
  },
  {
   "cell_type": "markdown",
   "metadata": {},
   "source": [
    "импорт **необходимых бибилотек**"
   ]
  },
  {
   "cell_type": "code",
   "execution_count": 16,
   "metadata": {},
   "outputs": [],
   "source": [
    "stop = set(stopwords.words('russian'))\n",
    "exclude = set(string.punctuation) \n",
    "lemma = Mystem()\n",
    "\n",
    "\n",
    "def clean(doc):\n",
    "    stop_free = \" \".join([i for i in doc.lower().split() if i not in stop])\n",
    "    punc_free = ''.join(ch for ch in stop_free if ch not in exclude)\n",
    "    normalized = \" \".join(lemma.lemmatize(word)[0] for word in punc_free.split())\n",
    "    return normalized"
   ]
  },
  {
   "cell_type": "markdown",
   "metadata": {},
   "source": [
    "**Очистка и препроцессинг** документов"
   ]
  },
  {
   "cell_type": "code",
   "execution_count": 5,
   "metadata": {},
   "outputs": [
    {
     "data": {
      "text/plain": [
       "['В Астраханской области неизвестные взорвали банкомат Сбербанка. Для этого преступники использовали баллон с газом. Однако, как сообщает информагентство «Астрахань 24», кассету с денежными средствами подозреваемые извлечь не смогли, так как ее повредило ударной волной. По данным регионального УМВД, в настоящее время на месте происшествия работают оперативные службы. Лица, совершившие преступления, пока не выявлены. Банк подсчитывает причиненный ущерб. Представители банка сообщили, что инцидент подтверждается. Пострадавших нет. В настоящее время по данному факту ведутся следственные действия. В интересах следствия подробности не раскрываются. фото с сайта «Астрахань 24»']"
      ]
     },
     "execution_count": 5,
     "metadata": {},
     "output_type": "execute_result"
    }
   ],
   "source": [
    "data = pickle.load(open(\"bankir_ru_news.pickle\",\"rb\"))\n",
    "text = data[13]['text']\n",
    "docs = [text]\n",
    "docs"
   ]
  },
  {
   "cell_type": "markdown",
   "metadata": {},
   "source": [
    "**Тестовые данные**"
   ]
  },
  {
   "cell_type": "code",
   "execution_count": 18,
   "metadata": {
    "collapsed": true
   },
   "outputs": [
    {
     "data": {
      "text/plain": [
       "[['астраханский',\n  'область',\n  'неизвестный',\n  'взрывать',\n  'банкомат',\n  'сбербанк',\n  'преступник',\n  'использовать',\n  'баллон',\n  'газ',\n  'однако',\n  'сообщать',\n  'информагентство',\n  '«',\n  '24',\n  'кассета',\n  'денежный',\n  'средство',\n  'подозреваемый',\n  'извлекать',\n  'смочь',\n  'повреждать',\n  'ударный',\n  'волна',\n  'данный',\n  'региональный',\n  'умвд',\n  'настоящий',\n  'время',\n  'место',\n  'происшествие',\n  'работать',\n  'оперативный',\n  'служба',\n  'лицо',\n  'совершать',\n  'преступление',\n  'пока',\n  'выявлять',\n  'банк',\n  'подсчитывать',\n  'причинять',\n  'ущерб',\n  'представитель',\n  'банка',\n  'сообщать',\n  'инцидент',\n  'подтверждаться',\n  'пострадавший',\n  'нет',\n  'настоящий',\n  'время',\n  'данный',\n  'факт',\n  'вестись',\n  'следственный',\n  'действие',\n  'интерес',\n  'следствие',\n  'подробность',\n  'раскрываться',\n  'фото',\n  'сайт',\n  '«',\n  '24']]"
      ]
     },
     "execution_count": 18,
     "metadata": {},
     "output_type": "execute_result"
    }
   ],
   "source": [
    "doc_clean = [clean(doc).split() for doc in docs]\n",
    "doc_clean"
   ]
  },
  {
   "cell_type": "markdown",
   "metadata": {},
   "source": [
    "**Тестовые данные** после **обработки**"
   ]
  },
  {
   "cell_type": "code",
   "execution_count": 21,
   "metadata": {},
   "outputs": [
    {
     "data": {
      "text/plain": [
       "<gensim.corpora.dictionary.Dictionary at 0x1e567ad7f28>"
      ]
     },
     "execution_count": 21,
     "metadata": {},
     "output_type": "execute_result"
    }
   ],
   "source": [
    "dictionary = corpora.Dictionary(doc_clean)\n",
    "dictionary"
   ]
  },
  {
   "cell_type": "markdown",
   "metadata": {},
   "source": [
    "Создаем **словарь лексем** где каждая **уникальная лексема** помечена **индексом**"
   ]
  },
  {
   "cell_type": "code",
   "execution_count": 22,
   "metadata": {
    "collapsed": true
   },
   "outputs": [
    {
     "data": {
      "text/plain": [
       "[[(0, 1),\n  (1, 1),\n  (2, 1),\n  (3, 1),\n  (4, 1),\n  (5, 1),\n  (6, 1),\n  (7, 1),\n  (8, 1),\n  (9, 1),\n  (10, 1),\n  (11, 2),\n  (12, 1),\n  (13, 2),\n  (14, 2),\n  (15, 1),\n  (16, 1),\n  (17, 1),\n  (18, 1),\n  (19, 1),\n  (20, 1),\n  (21, 1),\n  (22, 1),\n  (23, 1),\n  (24, 2),\n  (25, 1),\n  (26, 1),\n  (27, 2),\n  (28, 2),\n  (29, 1),\n  (30, 1),\n  (31, 1),\n  (32, 1),\n  (33, 1),\n  (34, 1),\n  (35, 1),\n  (36, 1),\n  (37, 1),\n  (38, 1),\n  (39, 1),\n  (40, 1),\n  (41, 1),\n  (42, 1),\n  (43, 1),\n  (44, 1),\n  (45, 1),\n  (46, 1),\n  (47, 1),\n  (48, 1),\n  (49, 1),\n  (50, 1),\n  (51, 1),\n  (52, 1),\n  (53, 1),\n  (54, 1),\n  (55, 1),\n  (56, 1),\n  (57, 1),\n  (58, 1)]]"
      ]
     },
     "execution_count": 22,
     "metadata": {},
     "output_type": "execute_result"
    }
   ],
   "source": [
    "doc_term_matrix = [dictionary.doc2bow(doc) for doc in doc_clean]\n",
    "doc_term_matrix"
   ]
  },
  {
   "cell_type": "markdown",
   "metadata": {},
   "source": [
    "**Преобразуем корпус** в **Document Term Matrix** используя **заранее подготовленный словарь**"
   ]
  },
  {
   "cell_type": "code",
   "execution_count": 23,
   "metadata": {},
   "outputs": [
    {
     "data": {
      "text/plain": [
       "gensim.models.ldamodel.LdaModel"
      ]
     },
     "execution_count": 23,
     "metadata": {},
     "output_type": "execute_result"
    }
   ],
   "source": [
    "Lda = gensim.models.ldamodel.LdaModel\n",
    "Lda"
   ]
  },
  {
   "cell_type": "markdown",
   "metadata": {},
   "source": [
    "Создаем **LDA модель** используя **модуль gensim**"
   ]
  },
  {
   "cell_type": "code",
   "execution_count": 25,
   "metadata": {},
   "outputs": [
    {
     "data": {
      "text/plain": [
       "<gensim.models.ldamodel.LdaModel at 0x1e568075e10>"
      ]
     },
     "execution_count": 25,
     "metadata": {},
     "output_type": "execute_result"
    }
   ],
   "source": [
    "ldamodel = Lda(doc_term_matrix, num_topics=3, id2word = dictionary, passes=50)\n",
    "ldamodel"
   ]
  },
  {
   "cell_type": "markdown",
   "metadata": {},
   "source": [
    "**запускаем** и **обучаем модель** на **Document Term Matrix**"
   ]
  },
  {
   "cell_type": "code",
   "execution_count": 26,
   "metadata": {},
   "outputs": [
    {
     "data": {
      "text/plain": [
       "[(0, '0.017*\"служба\" + 0.017*\"фото\" + 0.017*\"умвд\"'),\n (1, '0.017*\"инцидент\" + 0.017*\"место\" + 0.017*\"ущерб\"'),\n (2, '0.028*\"настоящий\" + 0.028*\"«\" + 0.028*\"сообщать\"')]"
      ]
     },
     "execution_count": 26,
     "metadata": {},
     "output_type": "execute_result"
    }
   ],
   "source": [
    "ldamodel.print_topics(num_topics=3, num_words=3)"
   ]
  },
  {
   "cell_type": "markdown",
   "metadata": {},
   "source": [
    "**Результат**"
   ]
  },
  {
   "cell_type": "markdown",
   "metadata": {},
   "source": [
    "<span style=\"color:blue\">*TODO:*</span> дополнить список стоп слов, дополнить список знаков пунктуации"
   ]
  },
  {
   "cell_type": "code",
   "execution_count": null,
   "metadata": {},
   "outputs": [],
   "source": []
  }
 ],
 "metadata": {
  "kernelspec": {
   "display_name": "Python 2",
   "language": "python",
   "name": "python2"
  },
  "language_info": {
   "codemirror_mode": {
    "name": "ipython",
    "version": 2
   },
   "file_extension": ".py",
   "mimetype": "text/x-python",
   "name": "python",
   "nbconvert_exporter": "python",
   "pygments_lexer": "ipython2",
   "version": "2.7.6"
  }
 },
 "nbformat": 4,
 "nbformat_minor": 0
}
