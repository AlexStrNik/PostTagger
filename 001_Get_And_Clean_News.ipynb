{
 "cells": [
  {
   "cell_type": "code",
   "execution_count": null,
   "metadata": {
    "collapsed": true
   },
   "outputs": [],
   "source": [
    "from selenium.webdriver import Chrome\n",
    "import pickle\n",
    "import requests\n",
    "from functools import partial\n",
    "import html\n",
    "\n",
    "import re\n",
    "import string\n",
    "import nltk\n",
    "import pymystem3\n",
    "from bs4 import BeautifulSoup\n",
    "from nltk.corpus import stopwords"
   ]
  },
  {
   "cell_type": "code",
   "execution_count": 2,
   "metadata": {
    "collapsed": false
   },
   "outputs": [
    {
     "ename": "WebDriverException",
     "evalue": "Message: Could not create a session: You must enable the 'Allow Remote Automation' option in Safari's Develop menu to control Safari via WebDriver.\n",
     "traceback": [
      "\u001b[0;31m---------------------------------------------------------------------------\u001b[0m",
      "\u001b[0;31mWebDriverException\u001b[0m                        Traceback (most recent call last)",
      "\u001b[0;32m<ipython-input-2-647cecf842b8>\u001b[0m in \u001b[0;36m<module>\u001b[0;34m()\u001b[0m\n\u001b[0;32m----> 1\u001b[0;31m \u001b[0mx\u001b[0m \u001b[0;34m=\u001b[0m \u001b[0mSafari\u001b[0m\u001b[0;34m(\u001b[0m\u001b[0;34m)\u001b[0m\u001b[0;34m\u001b[0m\u001b[0m\n\u001b[0m",
      "\u001b[0;32m/Applications/anaconda/lib/python3.5/site-packages/selenium/webdriver/safari/webdriver.py\u001b[0m in \u001b[0;36m__init__\u001b[0;34m(self, port, executable_path, desired_capabilities, quiet)\u001b[0m\n\u001b[1;32m     50\u001b[0m             \u001b[0mself\u001b[0m\u001b[0;34m,\u001b[0m\u001b[0;34m\u001b[0m\u001b[0m\n\u001b[1;32m     51\u001b[0m             \u001b[0mcommand_executor\u001b[0m\u001b[0;34m=\u001b[0m\u001b[0mself\u001b[0m\u001b[0;34m.\u001b[0m\u001b[0mservice\u001b[0m\u001b[0;34m.\u001b[0m\u001b[0mservice_url\u001b[0m\u001b[0;34m,\u001b[0m\u001b[0;34m\u001b[0m\u001b[0m\n\u001b[0;32m---> 52\u001b[0;31m             desired_capabilities=desired_capabilities)\n\u001b[0m\u001b[1;32m     53\u001b[0m         \u001b[0mself\u001b[0m\u001b[0;34m.\u001b[0m\u001b[0m_is_remote\u001b[0m \u001b[0;34m=\u001b[0m \u001b[0;32mFalse\u001b[0m\u001b[0;34m\u001b[0m\u001b[0m\n\u001b[1;32m     54\u001b[0m \u001b[0;34m\u001b[0m\u001b[0m\n",
      "\u001b[0;32m/Applications/anaconda/lib/python3.5/site-packages/selenium/webdriver/remote/webdriver.py\u001b[0m in \u001b[0;36m__init__\u001b[0;34m(self, command_executor, desired_capabilities, browser_profile, proxy, keep_alive, file_detector)\u001b[0m\n\u001b[1;32m     90\u001b[0m         \u001b[0mself\u001b[0m\u001b[0;34m.\u001b[0m\u001b[0merror_handler\u001b[0m \u001b[0;34m=\u001b[0m \u001b[0mErrorHandler\u001b[0m\u001b[0;34m(\u001b[0m\u001b[0;34m)\u001b[0m\u001b[0;34m\u001b[0m\u001b[0m\n\u001b[1;32m     91\u001b[0m         \u001b[0mself\u001b[0m\u001b[0;34m.\u001b[0m\u001b[0mstart_client\u001b[0m\u001b[0;34m(\u001b[0m\u001b[0;34m)\u001b[0m\u001b[0;34m\u001b[0m\u001b[0m\n\u001b[0;32m---> 92\u001b[0;31m         \u001b[0mself\u001b[0m\u001b[0;34m.\u001b[0m\u001b[0mstart_session\u001b[0m\u001b[0;34m(\u001b[0m\u001b[0mdesired_capabilities\u001b[0m\u001b[0;34m,\u001b[0m \u001b[0mbrowser_profile\u001b[0m\u001b[0;34m)\u001b[0m\u001b[0;34m\u001b[0m\u001b[0m\n\u001b[0m\u001b[1;32m     93\u001b[0m         \u001b[0mself\u001b[0m\u001b[0;34m.\u001b[0m\u001b[0m_switch_to\u001b[0m \u001b[0;34m=\u001b[0m \u001b[0mSwitchTo\u001b[0m\u001b[0;34m(\u001b[0m\u001b[0mself\u001b[0m\u001b[0;34m)\u001b[0m\u001b[0;34m\u001b[0m\u001b[0m\n\u001b[1;32m     94\u001b[0m         \u001b[0mself\u001b[0m\u001b[0;34m.\u001b[0m\u001b[0m_mobile\u001b[0m \u001b[0;34m=\u001b[0m \u001b[0mMobile\u001b[0m\u001b[0;34m(\u001b[0m\u001b[0mself\u001b[0m\u001b[0;34m)\u001b[0m\u001b[0;34m\u001b[0m\u001b[0m\n",
      "\u001b[0;32m/Applications/anaconda/lib/python3.5/site-packages/selenium/webdriver/remote/webdriver.py\u001b[0m in \u001b[0;36mstart_session\u001b[0;34m(self, desired_capabilities, browser_profile)\u001b[0m\n\u001b[1;32m    177\u001b[0m         \u001b[0;32mif\u001b[0m \u001b[0mbrowser_profile\u001b[0m\u001b[0;34m:\u001b[0m\u001b[0;34m\u001b[0m\u001b[0m\n\u001b[1;32m    178\u001b[0m             \u001b[0mcapabilities\u001b[0m\u001b[0;34m[\u001b[0m\u001b[0;34m'desiredCapabilities'\u001b[0m\u001b[0;34m]\u001b[0m\u001b[0;34m[\u001b[0m\u001b[0;34m'firefox_profile'\u001b[0m\u001b[0;34m]\u001b[0m \u001b[0;34m=\u001b[0m \u001b[0mbrowser_profile\u001b[0m\u001b[0;34m.\u001b[0m\u001b[0mencoded\u001b[0m\u001b[0;34m\u001b[0m\u001b[0m\n\u001b[0;32m--> 179\u001b[0;31m         \u001b[0mresponse\u001b[0m \u001b[0;34m=\u001b[0m \u001b[0mself\u001b[0m\u001b[0;34m.\u001b[0m\u001b[0mexecute\u001b[0m\u001b[0;34m(\u001b[0m\u001b[0mCommand\u001b[0m\u001b[0;34m.\u001b[0m\u001b[0mNEW_SESSION\u001b[0m\u001b[0;34m,\u001b[0m \u001b[0mcapabilities\u001b[0m\u001b[0;34m)\u001b[0m\u001b[0;34m\u001b[0m\u001b[0m\n\u001b[0m\u001b[1;32m    180\u001b[0m         \u001b[0;32mif\u001b[0m \u001b[0;34m'sessionId'\u001b[0m \u001b[0;32mnot\u001b[0m \u001b[0;32min\u001b[0m \u001b[0mresponse\u001b[0m\u001b[0;34m:\u001b[0m\u001b[0;34m\u001b[0m\u001b[0m\n\u001b[1;32m    181\u001b[0m             \u001b[0mresponse\u001b[0m \u001b[0;34m=\u001b[0m \u001b[0mresponse\u001b[0m\u001b[0;34m[\u001b[0m\u001b[0;34m'value'\u001b[0m\u001b[0;34m]\u001b[0m\u001b[0;34m\u001b[0m\u001b[0m\n",
      "\u001b[0;32m/Applications/anaconda/lib/python3.5/site-packages/selenium/webdriver/remote/webdriver.py\u001b[0m in \u001b[0;36mexecute\u001b[0;34m(self, driver_command, params)\u001b[0m\n\u001b[1;32m    236\u001b[0m         \u001b[0mresponse\u001b[0m \u001b[0;34m=\u001b[0m \u001b[0mself\u001b[0m\u001b[0;34m.\u001b[0m\u001b[0mcommand_executor\u001b[0m\u001b[0;34m.\u001b[0m\u001b[0mexecute\u001b[0m\u001b[0;34m(\u001b[0m\u001b[0mdriver_command\u001b[0m\u001b[0;34m,\u001b[0m \u001b[0mparams\u001b[0m\u001b[0;34m)\u001b[0m\u001b[0;34m\u001b[0m\u001b[0m\n\u001b[1;32m    237\u001b[0m         \u001b[0;32mif\u001b[0m \u001b[0mresponse\u001b[0m\u001b[0;34m:\u001b[0m\u001b[0;34m\u001b[0m\u001b[0m\n\u001b[0;32m--> 238\u001b[0;31m             \u001b[0mself\u001b[0m\u001b[0;34m.\u001b[0m\u001b[0merror_handler\u001b[0m\u001b[0;34m.\u001b[0m\u001b[0mcheck_response\u001b[0m\u001b[0;34m(\u001b[0m\u001b[0mresponse\u001b[0m\u001b[0;34m)\u001b[0m\u001b[0;34m\u001b[0m\u001b[0m\n\u001b[0m\u001b[1;32m    239\u001b[0m             response['value'] = self._unwrap_value(\n\u001b[1;32m    240\u001b[0m                 response.get('value', None))\n",
      "\u001b[0;32m/Applications/anaconda/lib/python3.5/site-packages/selenium/webdriver/remote/errorhandler.py\u001b[0m in \u001b[0;36mcheck_response\u001b[0;34m(self, response)\u001b[0m\n\u001b[1;32m    191\u001b[0m         \u001b[0;32melif\u001b[0m \u001b[0mexception_class\u001b[0m \u001b[0;34m==\u001b[0m \u001b[0mUnexpectedAlertPresentException\u001b[0m \u001b[0;32mand\u001b[0m \u001b[0;34m'alert'\u001b[0m \u001b[0;32min\u001b[0m \u001b[0mvalue\u001b[0m\u001b[0;34m:\u001b[0m\u001b[0;34m\u001b[0m\u001b[0m\n\u001b[1;32m    192\u001b[0m             \u001b[0;32mraise\u001b[0m \u001b[0mexception_class\u001b[0m\u001b[0;34m(\u001b[0m\u001b[0mmessage\u001b[0m\u001b[0;34m,\u001b[0m \u001b[0mscreen\u001b[0m\u001b[0;34m,\u001b[0m \u001b[0mstacktrace\u001b[0m\u001b[0;34m,\u001b[0m \u001b[0mvalue\u001b[0m\u001b[0;34m[\u001b[0m\u001b[0;34m'alert'\u001b[0m\u001b[0;34m]\u001b[0m\u001b[0;34m.\u001b[0m\u001b[0mget\u001b[0m\u001b[0;34m(\u001b[0m\u001b[0;34m'text'\u001b[0m\u001b[0;34m)\u001b[0m\u001b[0;34m)\u001b[0m\u001b[0;34m\u001b[0m\u001b[0m\n\u001b[0;32m--> 193\u001b[0;31m         \u001b[0;32mraise\u001b[0m \u001b[0mexception_class\u001b[0m\u001b[0;34m(\u001b[0m\u001b[0mmessage\u001b[0m\u001b[0;34m,\u001b[0m \u001b[0mscreen\u001b[0m\u001b[0;34m,\u001b[0m \u001b[0mstacktrace\u001b[0m\u001b[0;34m)\u001b[0m\u001b[0;34m\u001b[0m\u001b[0m\n\u001b[0m\u001b[1;32m    194\u001b[0m \u001b[0;34m\u001b[0m\u001b[0m\n\u001b[1;32m    195\u001b[0m     \u001b[0;32mdef\u001b[0m \u001b[0m_value_or_default\u001b[0m\u001b[0;34m(\u001b[0m\u001b[0mself\u001b[0m\u001b[0;34m,\u001b[0m \u001b[0mobj\u001b[0m\u001b[0;34m,\u001b[0m \u001b[0mkey\u001b[0m\u001b[0;34m,\u001b[0m \u001b[0mdefault\u001b[0m\u001b[0;34m)\u001b[0m\u001b[0;34m:\u001b[0m\u001b[0;34m\u001b[0m\u001b[0m\n",
      "\u001b[0;31mWebDriverException\u001b[0m: Message: Could not create a session: You must enable the 'Allow Remote Automation' option in Safari's Develop menu to control Safari via WebDriver.\n"
     ],
     "output_type": "error"
    }
   ],
   "source": [
    "x = Chrome()"
   ]
  },
  {
   "cell_type": "code",
   "execution_count": 14,
   "metadata": {
    "collapsed": false
   },
   "outputs": [],
   "source": [
    "url = (\"https://www.google.ru/search?\"\n",
    "\"q=site:{site}{params}&newwindow=1&tbs=cdr:1,\"\n",
    "\"cd_min:{min_month}/{min_day}/{min_year},cd_max:{max_month}/{max_day}/{max_year},sbd:1\")"
   ]
  },
  {
   "cell_type": "code",
   "execution_count": 15,
   "metadata": {
    "collapsed": false
   },
   "outputs": [],
   "source": [
    "def url_gen(min_date, max_date, site, params=''):\n",
    "    d_min = min_date.split('.')\n",
    "    d_max = max_date.split('.')\n",
    "    return url.format(site=site,\n",
    "                      params=params,\n",
    "                      min_month=d_min[1],min_day=d_min[0],min_year=d_min[2],\n",
    "                      max_month=d_max[1],max_day=d_max[0],max_year=d_max[2],\n",
    "                     )"
   ]
  },
  {
   "cell_type": "code",
   "execution_count": 16,
   "metadata": {
    "collapsed": false
   },
   "outputs": [],
   "source": [
    "forbes = partial(url_gen, site='forbes.ru', params='+news')\n",
    "bankir_ru = partial(url_gen, site='bankir.ru', params='/novosti/')\n",
    "arb = partial(url_gen, site='arb.ru/b2b/news/')\n",
    "bosfera = partial(url_gen, site='bosfera.ru/press-release/')\n",
    "\n",
    "dates = [('1.4.2017', '30.4.2017'), ('1.5.2017', '31.5.2017'), ('1.6.2017', '30.6.2017')]\n",
    "\n",
    "url_list = [\n",
    "    [forbes(d[0], d[1]) for d in dates],\n",
    "    [bankir_ru(d[0], d[1]) for d in dates],\n",
    "    [arb(d[0], d[1]) for d in dates],\n",
    "    [bosfera(d[0], d[1]) for d in dates]\n",
    "]"
   ]
  },
  {
   "cell_type": "code",
   "execution_count": 17,
   "metadata": {
    "collapsed": false
   },
   "outputs": [],
   "source": [
    "# collecting links from google\n",
    "links = []\n",
    "for site in url_list:\n",
    "    for url in site:\n",
    "        x.get(url)\n",
    "        while True:\n",
    "            h3 = x.find_elements_by_css_selector('.r')\n",
    "            st = x.find_elements_by_css_selector('.g .s .st .f')\n",
    "            for elem, date in zip(h3, st):\n",
    "                link = (elem.find_element_by_tag_name('a').get_property(\"href\"))\n",
    "                links.append({'date': date.text[:-6], 'link': link})\n",
    "            try:\n",
    "                next_link = x.find_element_by_id('pnnext').get_property(\"href\")\n",
    "                x.get(next_link)\n",
    "            except:\n",
    "                break\n",
    "    with open('links.pickle', 'wb+') as f:\n",
    "        pickle.dump(file=f, obj=links)"
   ]
  },
  {
   "cell_type": "code",
   "execution_count": 10,
   "metadata": {
    "collapsed": true
   },
   "outputs": [],
   "source": [
    "# saving data\n",
    "with open('links.pickle', 'wb+') as f:\n",
    "    pickle.dump(file=f, obj=links)"
   ]
  },
  {
   "cell_type": "code",
   "execution_count": 7,
   "metadata": {
    "collapsed": false
   },
   "outputs": [],
   "source": [
    "def collect_from_bosfera(news, x):\n",
    "    news['title'] = x.find_element_by_css_selector('h1').text\n",
    "    news['text'] = '\\n'.join([html.unescape(t.text) for t in x.find_elements_by_css_selector('.inart p')])                                                    \n",
    "    return news\n",
    "\n",
    "def collect_from_arb(news, x):\n",
    "    news['title'] = x.find_element_by_css_selector('h1').text\n",
    "    news['text'] = '\\n'.join([html.unescape(t.text) for t in x.find_elements_by_css_selector('.editorBox p')])\n",
    "    news['datetime'] = x.find_element_by_css_selector('.date').text\n",
    "    news['section'] = news['datetime'].split('\\\\')[1]\n",
    "    news['datetime'] = news['datetime'].split('\\\\')[0]\n",
    "    return news\n",
    "\n",
    "def collect_from_forbes(news, x):\n",
    "    if news['link'].split('/')[3] in ('profile', 'biznes-video', 'person', 'milliardery-video'):\n",
    "        return news\n",
    "    news['title'] = x.find_element_by_css_selector('h1').text\n",
    "    news['text'] = html.unescape(x.find_element_by_css_selector('.body-page').text)\n",
    "    \n",
    "    news['datetime'] = x.find_element_by_css_selector('.date').text\n",
    "    news['section'] = x.find_element_by_css_selector('.section').text\n",
    "    \n",
    "    \n",
    "    try:\n",
    "        news['hashtag'] = x.find_element_by_css_selector('.hashtag').text\n",
    "    except:\n",
    "        pass\n",
    "    try:\n",
    "        news['subtitle'] = x.find_element_by_css_selector('.subtitle').text\n",
    "    except:\n",
    "        pass\n",
    "    \n",
    "    return news\n",
    "\n",
    "def collect_from_bankir(news, x):\n",
    "    news['title'] = x.find_element_by_css_selector('h1').text\n",
    "    news['text'] = html.unescape(x.find_element_by_css_selector('.article-content').text)\n",
    "    news['section'] = ','.join([e.text for e in x.find_elements_by_css_selector('li a .toggle-item')])\n",
    "    news['datetime'] = x.find_element_by_css_selector('.article-date').text\n",
    "\n",
    "    try:\n",
    "        news['hashtag'] = x.find_element_by_css_selector('.article-tags').text\n",
    "    except:\n",
    "        pass\n",
    "    try:\n",
    "        news['subtitle'] = x.find_element_by_css_selector('.h2').text\n",
    "    except:\n",
    "        pass\n",
    "    \n",
    "    return news"
   ]
  },
  {
   "cell_type": "code",
   "execution_count": 8,
   "metadata": {
    "collapsed": true
   },
   "outputs": [],
   "source": [
    "# dictionary of functions for switch/case\n",
    "site_processer = {\n",
    "    'www.forbes.ru' : collect_from_forbes,\n",
    "    'bankir.ru' : collect_from_bankir,\n",
    "    'arb.ru' : collect_from_arb,\n",
    "    'bosfera.ru': collect_from_bosfera\n",
    "}"
   ]
  },
  {
   "cell_type": "code",
   "execution_count": 9,
   "metadata": {
    "collapsed": false
   },
   "outputs": [],
   "source": [
    "# collecting news\n",
    "goal = len(links) + 1\n",
    "for news, i in zip(links, range(1, goal)):\n",
    "    if 'title' in news.keys():\n",
    "        continue\n",
    "    \n",
    "    try:\n",
    "        x.get(news['link'])\n",
    "        news = site_processer[news['link'].split('/')[2]](news, x)\n",
    "    except:\n",
    "        pass\n",
    "\n",
    "    if i % 5 == 0:\n",
    "        print(\"Progress %.2f %%\" % (i / goal * 100))"
   ]
  },
  {
   "cell_type": "code",
   "execution_count": null,
   "metadata": {
    "collapsed": false,
    "scrolled": true
   },
   "outputs": [],
   "source": [
    "# saving data\n",
    "with open('news.pickle', 'wb+') as f:\n",
    "    pickle.dump(file=f, obj=objlist)"
   ]
  },
  {
   "cell_type": "code",
   "execution_count": null,
   "metadata": {
    "collapsed": true
   },
   "outputs": [],
   "source": [
    "def clean_text(text):\n",
    "    text = re.sub(' +|\\n*', ' ', regex.sub(BeautifulSoup(text,\"lxml\").get_text(), ' ')).lstrip(' ').rstrip(' ')\n",
    "    text = ' '.join([e for e in mystem.lemmatize(text) if e not in stopwords.words(\"russian\")])\n",
    "    return text"
   ]
  },
  {
   "cell_type": "code",
   "execution_count": null,
   "metadata": {
    "collapsed": true
   },
   "outputs": [],
   "source": [
    "mystem = pymystem3.Mystem()\n",
    "regex = re.compile('|'.join(string.punctuation+\"«»€№\"))"
   ]
  },
  {
   "cell_type": "code",
   "execution_count": null,
   "metadata": {
    "collapsed": true
   },
   "outputs": [],
   "source": [
    "for news, i in zip(links, range(1, len(links) + 1)):\n",
    "    if 'text' in news.keys():\n",
    "        news['text'] = clean_text(news['text'])\n",
    "        cleared.append(d)\n",
    "    if i % 5 == 0:\n",
    "        print(\"Progress %.2f %%\" % (i / goal * 100))"
   ]
  },
  {
   "cell_type": "code",
   "execution_count": null,
   "metadata": {
    "collapsed": true
   },
   "outputs": [],
   "source": [
    "with open(\"all_news_clean.pickle\",\"wb\") as f:\n",
    "    pickle.dump(links, f)"
   ]
  }
 ],
 "metadata": {
  "anaconda-cloud": {},
  "kernelspec": {
   "display_name": "Python [Root]",
   "language": "python",
   "name": "Python [Root]"
  },
  "language_info": {
   "codemirror_mode": {
    "name": "ipython",
    "version": 3
   },
   "file_extension": ".py",
   "mimetype": "text/x-python",
   "name": "python",
   "nbconvert_exporter": "python",
   "pygments_lexer": "ipython3",
   "version": "3.5.2"
  }
 },
 "nbformat": 4,
 "nbformat_minor": 0
}
